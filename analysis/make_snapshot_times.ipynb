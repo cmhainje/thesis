{
 "cells": [
  {
   "cell_type": "code",
   "execution_count": 1,
   "metadata": {},
   "outputs": [],
   "source": [
    "import numpy as np\n",
    "import math"
   ]
  },
  {
   "cell_type": "code",
   "execution_count": 2,
   "metadata": {},
   "outputs": [],
   "source": [
    "unit_time = 0.978 # [Gyr]\n",
    "delta_time = 0.1\n",
    "directory = '/home/chainje/thesis/simulation/halos_only/mw/gizmo/'"
   ]
  },
  {
   "cell_type": "code",
   "execution_count": 3,
   "metadata": {},
   "outputs": [
    {
     "data": {
      "text/plain": [
       "1"
      ]
     },
     "execution_count": 3,
     "metadata": {},
     "output_type": "execute_result"
    }
   ],
   "source": [
    "out_file = open(directory+\"snapshot_times.txt\", \"w\")\n",
    "out_file.write('# i scale-factor redshift time[Gyr] time_width[Myr]')\n",
    "out_file.write('\\n')"
   ]
  },
  {
   "cell_type": "code",
   "execution_count": 4,
   "metadata": {},
   "outputs": [],
   "source": [
    "for i in range(201):\n",
    "    line = '  ' + str(i) + ' ' \n",
    "    line += str(0.0000000) + ' '\n",
    "    line += str(0.0000000) + ' '\n",
    "    line += str(i *delta_time*unit_time) + ' '\n",
    "    line += str(delta_time*unit_time*1e3) \n",
    "    #print(line)\n",
    "    out_file.write(line)\n",
    "    out_file.write(\"\\n\")\n",
    "out_file.close()\n"
   ]
  },
  {
   "cell_type": "code",
   "execution_count": null,
   "metadata": {},
   "outputs": [],
   "source": []
  }
 ],
 "metadata": {
  "anaconda-cloud": {},
  "kernelspec": {
   "display_name": "Python 3",
   "language": "python",
   "name": "python3"
  },
  "language_info": {
   "codemirror_mode": {
    "name": "ipython",
    "version": 3
   },
   "file_extension": ".py",
   "mimetype": "text/x-python",
   "name": "python",
   "nbconvert_exporter": "python",
   "pygments_lexer": "ipython3",
   "version": "3.7.9"
  }
 },
 "nbformat": 4,
 "nbformat_minor": 4
}
