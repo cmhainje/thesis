{
 "cells": [
  {
   "cell_type": "markdown",
   "metadata": {},
   "source": [
    "# create.ipynb\n",
    "This notebook leverages GalactICS to make initial conditions files ready for simulation in GIZMO."
   ]
  },
  {
   "cell_type": "code",
   "execution_count": 1,
   "metadata": {},
   "outputs": [],
   "source": [
    "import os\n",
    "import subprocess\n",
    "\n",
    "import initial_conditions as ic"
   ]
  },
  {
   "cell_type": "code",
   "execution_count": 2,
   "metadata": {},
   "outputs": [],
   "source": [
    "# CONFIG\n",
    "SCRATCH = '/scratch/gpfs/chainje'\n",
    "HOME = '/home/chainje'\n",
    "SIM = f'{SCRATCH}/test/mw'\n",
    "GADGETCONVERTERS = f'{HOME}/GalactICSPackage_Mar2019/GadgetConverters/Programs'\n",
    "\n",
    "SIDM = True"
   ]
  },
  {
   "cell_type": "code",
   "execution_count": 3,
   "metadata": {},
   "outputs": [],
   "source": [
    "# Set up directory\n",
    "os.makedirs(f'{SIM}/galactics', exist_ok=True)\n",
    "os.makedirs(f'{SIM}/converter', exist_ok=True)\n",
    "os.makedirs(f'{SIM}/output', exist_ok=True)"
   ]
  },
  {
   "cell_type": "markdown",
   "metadata": {},
   "source": [
    "First, we need to make the GalactICS input files. This is handled by code in `initial_conditions.py`. One can specify the parameters necessary to make a parameter file manually, but the local `mw.py` and `sgr.py` files define all the relevant parameters needed. To use one of these, simply uncomment its import statement."
   ]
  },
  {
   "cell_type": "code",
   "execution_count": 5,
   "metadata": {},
   "outputs": [],
   "source": [
    "# Make GalactICS input files\n",
    "from mw import *\n",
    "# from sgr import *\n",
    "\n",
    "M_disk = 1e5\n",
    "N_disk = 10\n",
    "sigma_h_fudge = 2.08\n",
    "\n",
    "h, d = ic.make_params(M_NFW, c, M_halo, N_halo, R_200, r_H, M_disk, N_disk, b_0, c_0, M_bulge, N_bulge, a,\n",
    "                      sigma_h_fudge=sigma_h_fudge, disk_n_spline_points=1, disk_n_iterations=0)\n",
    "w = ic.Writer(halo=h, disk=d, folder=f'{SIM}/galactics')\n",
    "w.write()"
   ]
  },
  {
   "cell_type": "markdown",
   "metadata": {},
   "source": [
    "With the input files made, we make use of the `run_galactics.sh` script to actually run GalactICS. If GalactICS runs successfully, we should be able to decode the captured stdout and determine the mass of the halo. If GalactICS does not run successfully, we are not likely to get the halo mass back out, so we will print the stderr."
   ]
  },
  {
   "cell_type": "code",
   "execution_count": 6,
   "metadata": {},
   "outputs": [
    {
     "name": "stdout",
     "output_type": "stream",
     "text": [
      "Halo mass: 1.273e+12 M_sol\n"
     ]
    }
   ],
   "source": [
    "# Run GalactICS\n",
    "result = subprocess.run(['sh', 'run_galactics.sh', f'{SIM}'], capture_output=True)\n",
    "output = result.stdout.decode('utf-8').split('\\n')\n",
    "for line in output:\n",
    "    if 'Halo mass' in line:\n",
    "        print(f\"Halo mass: {float(line.split()[3]) * 2.325e9:.3e} M_sol\")\n",
    "        break\n",
    "else:\n",
    "    print(result.stderr.decode('utf-8'))"
   ]
  },
  {
   "cell_type": "code",
   "execution_count": 7,
   "metadata": {},
   "outputs": [
    {
     "name": "stdout",
     "output_type": "stream",
     "text": [
      " Central velocity dispersion, scale length of sigR**2?\n",
      " number of radial steps for correction fns (min. 6)?\n",
      " number of iterations?\n",
      " wrote a table of frequencies in file omekap.dat.\n",
      " Toomre Q =    529354.062      at R = 2.5 R_d\n",
      " wrote a table of frequencies in file omekap.dat.\n",
      "\n"
     ]
    }
   ],
   "source": [
    "print(result.stderr.decode('utf-8'))"
   ]
  },
  {
   "cell_type": "markdown",
   "metadata": {},
   "source": [
    "Now that we've run GalactICS, we need to convert the initial conditions files into a format that GIZMO understands. This is done with GalactICS's GadgetConverters module. First, we make a file called `converter.in` that specifies the number of galaxy components (disk, halo, disk2, etc.), the path to the GalactICS output, and the output paths. This is finicky; if modifying (for instance, to add a bulge or a second disk), be careful to leave extra newlines in all the same spaces. The final result is a GIZMO binary initial conditions file at `{SIM}/data.ic`."
   ]
  },
  {
   "cell_type": "code",
   "execution_count": 8,
   "metadata": {},
   "outputs": [
    {
     "name": "stdout",
     "output_type": "stream",
     "text": [
      " Combining Galaxies\n",
      " Number of galaxies to combine           1\n",
      " The path to the GalactICS data files is /scratch/gpfs/chainje/test/mw/galactics/\n",
      " number of Components in           1 Galaxy           2\n",
      " halo,\t1                                                                                             \n",
      " Component File and Particle Type: /scratch/gpfs/chainje/test/mw/galactics/halo           1\n",
      " disk,\t2                                                                                             \n",
      " Component File and Particle Type: /scratch/gpfs/chainje/test/mw/galactics/disk           2\n",
      " Output centered Galaxy           1 to /scratch/gpfs/chainje/test/mw/converter/ignore.out\n",
      " Output ascii combined galaxy to /scratch/gpfs/chainje/test/mw/converter/ascii.out\n",
      " Output Particle ID file for later separation to /scratch/gpfs/chainje/test/mw/converter/partIDs.out\n",
      " Reading in the various GalactICS Components\n",
      "           1           1           1           1      116000\n",
      "           2           1           2      116001      116010\n",
      " Move All non-centered galaxies\n",
      " Combine all galaxy components into larger arrays\n",
      " Add components together\n",
      " writing out each galaxy\n",
      "           0\n",
      "           1\n",
      " Add components together\n",
      "           2\n",
      " Add components together\n",
      "           3\n",
      "           4\n",
      "           5\n",
      " Add components together\n",
      " writing out final combined galaxy\n",
      " Writing Gadget Header          10\n",
      "\n",
      "\n",
      "Name of file to convert? \n",
      "/scratch/gpfs/chainje/test/mw/converter/ascii.out \n",
      "Name of output file? \n",
      "end of header 0.000000 0.000000 1 \n",
      "allocating memory...\n",
      "numpart = 116010\n",
      "allocating memory...done\n",
      "1 1 0.001098 65.065010 -65.580559 74.030800 -31.328901 -52.177353 176.926544 0.000000 0.000000 0.000000 0.000000 \n",
      "116010 2 0.000001 -1.161962 -2.330353 0.669144 86.563210 -20.727688 3.314205 0.000000 0.000000 0.000000 0.000000 \n",
      "writing `/scratch/gpfs/chainje/test/mw/data.ic' ...\n",
      "writing pos 0 0 \n",
      "writing pos 1 116000 \n",
      "writing pos 2 10 \n",
      "writing pos 3 0 \n",
      "writing pos 4 0 \n",
      "writing pos 5 0 \n",
      "dummy = 464040\n",
      "writing ID 0 0 \n",
      "writing ID 1 116000 \n",
      "writing ID 2 10 \n",
      "writing ID 3 0 \n",
      "writing ID 4 0 \n",
      "writing ID 5 0 \n",
      "dummy = 464040\n",
      "writing Masses 0 0 \n",
      "writing Masses 1 116000 \n",
      "writing Masses 2 10 \n",
      "writing Masses 3 0 \n",
      "writing Masses 4 0 \n",
      "writing Masses 5 0 \n",
      "mass dummy = 464040 \n",
      "dummy = 464040\n",
      "dummy = 464040\n",
      "\n",
      "\n"
     ]
    },
    {
     "data": {
      "text/plain": [
       "CompletedProcess(args=['rm', 'converter.in'], returncode=0)"
      ]
     },
     "execution_count": 8,
     "metadata": {},
     "output_type": "execute_result"
    }
   ],
   "source": [
    "# Run GadgetConverters\n",
    "\n",
    "## make a local converter.in\n",
    "f = open('converter.in', 'w')\n",
    "f.write('1\\t2\\n\\n') # number of galaxies, max number of components\n",
    "f.write(f'{SIM}/galactics/\\n\\n') # path to galactics output\n",
    "f.write('2\\nhalo,\\t1\\ndisk,\\t2\\n')\n",
    "f.write(f'{SIM}/converter/ignore.out\\n\\n')\n",
    "f.write(f'{SIM}/converter/ascii.out\\n\\n')\n",
    "f.write(f'{SIM}/converter/partIDs.out\\n')\n",
    "f.write('0.\\n0.\\n0\\n0\\n0\\n0.\\n0.\\n0.\\n0.\\n')\n",
    "f.close()\n",
    "\n",
    "## clean the sim converter folder\n",
    "subprocess.run(['rm',f'{SIM}/converter/*'])\n",
    "\n",
    "## run galcombine to get ascii.out\n",
    "results = subprocess.run([f'{GADGETCONVERTERS}/GalCombine', 'converter.in'], capture_output=True)\n",
    "print(results.stdout.decode('utf-8'))\n",
    "print(results.stderr.decode('utf-8'))\n",
    "\n",
    "## convert ascii.out to a GIZMO binary\n",
    "p = subprocess.Popen([f'{GADGETCONVERTERS}/ascii2gadget_gasIni'],\n",
    "                     stdin=subprocess.PIPE, stdout=subprocess.PIPE, stderr=subprocess.PIPE)\n",
    "outs, errs = p.communicate(bytes(os.linesep.join([f'{SIM}/converter/ascii.out',f'{SIM}/data.ic']), 'utf-8'))\n",
    "print(outs.decode('utf-8'))\n",
    "print(errs.decode('utf-8'))\n",
    "\n",
    "subprocess.run(['rm','converter.in'])"
   ]
  },
  {
   "cell_type": "markdown",
   "metadata": {},
   "source": [
    "Lastly, we prep the directory for GIZMO simulation. We do this by making a parameterfile in the simulation directory with the correct paths hardcoded in the directory. This is done by modifying a local copy of the parameterfile and simply copying it to the simulation directory. Then, a sample SLURM batch script is created in the simulation directory. GIZMO can be run by simply running `sbatch run_gizmo.sh` from the simulation directory!\n",
    "\n",
    "Note also that, since we now have our `data.ic` initial conditions file, the `galactics/` and `converter/` directories (and all their contents) can be safely removed. However, it could be useful to hang on to at least the GalactICS input files if you ever need to double check the parameters used."
   ]
  },
  {
   "cell_type": "code",
   "execution_count": 9,
   "metadata": {},
   "outputs": [],
   "source": [
    "# Get everything ready for GIZMO\n",
    "\n",
    "## update the local gizmo.param file with correct filepaths\n",
    "with open(\"gizmo.param\", \"r\") as f:\n",
    "    lines = f.readlines()\n",
    "for i in range(len(lines)):\n",
    "    if 'InitCondFile' in lines[i]:\n",
    "        lines[i] = f'InitCondFile\\t    {SIM}/data.ic\\n'\n",
    "    elif 'OutputDir' in lines[i]:\n",
    "        lines[i] = f'OutputDir\\t    {SIM}/output\\n'\n",
    "    elif 'DM_InteractionCrossSection' in lines[i]:\n",
    "        lines[i] = f'DM_InteractionCrossSection    {\"2\" if SIDM else \"0\"}\\n'\n",
    "with open(\"gizmo.param\", \"w\") as f:\n",
    "    f.writelines(lines)\n",
    "\n",
    "## copy local paramfile to the sim directory\n",
    "subprocess.run(['cp','gizmo.param',f'{SIM}'])\n",
    "\n",
    "## populate a sample batch script\n",
    "with open(f\"{SIM}/run_gizmo.sh\", \"w\") as f:\n",
    "    f.write(\"#!/bin/bash\\n\")\n",
    "    f.write(\"#SBATCH --job-name=sim\\n\")\n",
    "    f.write(\"#SBATCH -p all\\n\")\n",
    "    f.write(\"#SBATCH --nodes=1\\n\")\n",
    "    f.write(\"#SBATCH --exclusive\\n\")\n",
    "    f.write(\"#SBATCH --ntasks-per-node=25\\n\")\n",
    "    f.write(\"#SBATCH --cpus-per-task=1\\n\")\n",
    "    f.write(\"#SBATCH --mem=50G\\n\")\n",
    "    f.write(\"#SBATCH --time=0-00:20:00\\n\")\n",
    "    f.write(\"#SBATCH --mail-type=all\\n\")\n",
    "    f.write(\"#SBATCH --mail-user=chainje@princeton.edu\\n\\n\")\n",
    "    f.write(\"module purge\\n\")\n",
    "    f.write(\"module load openmpi/gcc/1.10.2/64 gsl/2.4 fftw/gcc/openmpi-1.10.2/3.3.4 hdf5/gcc/1.8.16\\n\")\n",
    "    f.write(f\"srun {HOME}/gizmo-{'sidm' if SIDM else 'public'}/GIZMO {SIM}/gizmo.param\\n\")"
   ]
  }
 ],
 "metadata": {
  "kernelspec": {
   "display_name": "Python 3.7.9 64-bit ('analysis': conda)",
   "language": "python",
   "name": "python37964bitanalysisconda9dac980c9be34481a730bc0b22754ef5"
  },
  "language_info": {
   "codemirror_mode": {
    "name": "ipython",
    "version": 3
   },
   "file_extension": ".py",
   "mimetype": "text/x-python",
   "name": "python",
   "nbconvert_exporter": "python",
   "pygments_lexer": "ipython3",
   "version": "3.7.9"
  }
 },
 "nbformat": 4,
 "nbformat_minor": 4
}
