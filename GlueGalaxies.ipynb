{
 "cells": [
  {
   "cell_type": "code",
   "execution_count": 1,
   "metadata": {},
   "outputs": [],
   "source": [
    "import gizmo_analysis as gizmo\n",
    "import utilities as ut\n",
    "import matplotlib as mpl\n",
    "import numpy as np\n",
    "import math\n",
    "import matplotlib.pyplot as plt\n",
    "from matplotlib import colors\n",
    "\n",
    "import h5py\n",
    "import os\n",
    "\n",
    "from IPython.utils import io"
   ]
  },
  {
   "cell_type": "code",
   "execution_count": 2,
   "metadata": {},
   "outputs": [],
   "source": [
    "gal1_type='SIDM10v'\n",
    "gal2_type='SIDM10v'"
   ]
  },
  {
   "cell_type": "markdown",
   "metadata": {},
   "source": [
    "# Define input conditions"
   ]
  },
  {
   "cell_type": "code",
   "execution_count": 3,
   "metadata": {},
   "outputs": [],
   "source": [
    "g1 = h5py.File('/scratch/gpfs/mlisanti/MW_evolution/' + gal1_type + '/output/snapshot_051.hdf5','r')\n",
    "g2 = h5py.File('/scratch/gpfs/mlisanti/Sat_evolution/' + gal2_type + '/output/snapshot_051.hdf5','r')"
   ]
  },
  {
   "cell_type": "markdown",
   "metadata": {},
   "source": [
    "Define the following as integers since they are used in filename..."
   ]
  },
  {
   "cell_type": "code",
   "execution_count": 4,
   "metadata": {},
   "outputs": [],
   "source": [
    "g1_xyz_start = np.array([0, 0, 0])\n",
    "g1_vxyz_start = np.array([0, 0, 0])\n",
    "\n",
    "g2_xyz_start=np.array([-80, 50, -8])\n",
    "g2_vxyz_start = np.array([140, -50, 30])"
   ]
  },
  {
   "cell_type": "code",
   "execution_count": 5,
   "metadata": {},
   "outputs": [],
   "source": [
    "comp = h5py.File('/scratch/gpfs/mlisanti/foo/outputfiles/MW_cuspy_Sat_cuspy--80-50--8-140--50-30.hdf5','r')"
   ]
  },
  {
   "cell_type": "markdown",
   "metadata": {},
   "source": [
    "# Shift gal1 and gal2 to their specified initial position and velocity"
   ]
  },
  {
   "cell_type": "code",
   "execution_count": 6,
   "metadata": {},
   "outputs": [],
   "source": [
    "g1_part1_coords = g1['PartType1']['Coordinates'] + g1_xyz_start\n",
    "g1_part1_vels = g1['PartType1']['Velocities'] + g1_vxyz_start\n",
    "g1_part1_mass = g1['PartType1']['Masses'][:]\n",
    "g1_part1_ids = g1['PartType1']['ParticleIDs'][:]\n",
    "\n",
    "g1_part2_coords = g1['PartType2']['Coordinates'] + g1_xyz_start\n",
    "g1_part2_vels = g1['PartType2']['Velocities'] + g1_vxyz_start\n",
    "g1_part2_mass = g1['PartType2']['Masses'][:]\n",
    "g1_part2_ids = g1['PartType2']['ParticleIDs'][:]\n"
   ]
  },
  {
   "cell_type": "code",
   "execution_count": 7,
   "metadata": {},
   "outputs": [],
   "source": [
    "g2_part1_coords = g2['PartType1']['Coordinates'] + g2_xyz_start\n",
    "g2_part1_vels = g2['PartType1']['Velocities'] + g2_vxyz_start\n",
    "g2_part1_mass = g2['PartType1']['Masses'][:]\n",
    "g2_part1_ids = g2['PartType1']['ParticleIDs'][:]\n",
    "\n",
    "g2_part2_coords = g2['PartType2']['Coordinates'] + g2_xyz_start\n",
    "g2_part2_vels = g2['PartType2']['Velocities'] + g2_vxyz_start\n",
    "g2_part2_mass = g2['PartType2']['Masses'][:]\n",
    "g2_part2_ids = g2['PartType2']['ParticleIDs'][:]"
   ]
  },
  {
   "cell_type": "markdown",
   "metadata": {},
   "source": [
    "# Shift gal1 and gal2 to the COM and COV frame"
   ]
  },
  {
   "cell_type": "code",
   "execution_count": 8,
   "metadata": {},
   "outputs": [],
   "source": [
    "def find_com():\n",
    "    \n",
    "    Mtot = np.sum(g1_part1_mass) + np.sum(g1_part2_mass) + np.sum(g2_part1_mass) +  np.sum(g2_part2_mass)\n",
    "\n",
    "    R_cm = []\n",
    "    \n",
    "    for i in range(3):\n",
    "        xyz_cm = np.sum(g1_part1_coords[:,i] * g1_part1_mass) + np.sum(g1_part2_coords[:,i] * g1_part2_mass)\n",
    "        xyz_cm += np.sum(g2_part1_coords[:,i] * g2_part1_mass) + np.sum(g2_part2_coords[:,i] * g2_part2_mass)\n",
    "        xyz_cm /= Mtot\n",
    "        \n",
    "        R_cm.append(xyz_cm)\n",
    "        \n",
    "    return np.array(R_cm)\n",
    "\n",
    "def find_cov():\n",
    "    \n",
    "    Mtot = np.sum(g1_part1_mass) + np.sum(g1_part2_mass) + np.sum(g2_part1_mass) +  np.sum(g2_part2_mass)\n",
    "\n",
    "    V_cm = []\n",
    "    \n",
    "    for i in range(3):\n",
    "        vxyz_cm = np.sum(g1_part1_vels[:,i] * g1_part1_mass) + np.sum(g1_part2_vels[:,i] * g1_part2_mass)\n",
    "        vxyz_cm += np.sum(g2_part1_vels[:,i] * g2_part1_mass) + np.sum(g2_part2_vels[:,i] * g2_part2_mass)\n",
    "        vxyz_cm /= Mtot\n",
    "        \n",
    "        V_cm.append(vxyz_cm)\n",
    "        \n",
    "    return np.array(V_cm)\n",
    "    "
   ]
  },
  {
   "cell_type": "code",
   "execution_count": 9,
   "metadata": {},
   "outputs": [
    {
     "name": "stdout",
     "output_type": "stream",
     "text": [
      "[-12.23129386   7.25079392  -1.76292323]\n",
      "[21.53634343 -7.94863092  4.2883418 ]\n"
     ]
    }
   ],
   "source": [
    "Rcm = find_com()\n",
    "print(Rcm)\n",
    "Vcm = find_cov()\n",
    "print(Vcm)"
   ]
  },
  {
   "cell_type": "code",
   "execution_count": 10,
   "metadata": {},
   "outputs": [],
   "source": [
    "g1_part1_coords_cm = g1_part1_coords - Rcm\n",
    "g1_part2_coords_cm = g1_part2_coords - Rcm\n",
    "\n",
    "g1_part1_vels_cm = g1_part1_vels - Vcm\n",
    "g1_part2_vels_cm = g1_part2_vels - Vcm"
   ]
  },
  {
   "cell_type": "code",
   "execution_count": 11,
   "metadata": {},
   "outputs": [],
   "source": [
    "g2_part1_coords_cm = g2_part1_coords - Rcm\n",
    "g2_part2_coords_cm = g2_part2_coords - Rcm\n",
    "\n",
    "g2_part1_vels_cm = g2_part1_vels - Vcm\n",
    "g2_part2_vels_cm = g2_part2_vels - Vcm"
   ]
  },
  {
   "cell_type": "markdown",
   "metadata": {},
   "source": [
    "# Join up the files and align Particle IDs"
   ]
  },
  {
   "cell_type": "code",
   "execution_count": 12,
   "metadata": {},
   "outputs": [
    {
     "name": "stdout",
     "output_type": "stream",
     "text": [
      "1000000 100000\n",
      "180000 21000\n"
     ]
    }
   ],
   "source": [
    "g1_ndm = len(g1_part1_ids)\n",
    "g1_nstar = len(g1_part2_ids)\n",
    "print(g1_ndm, g1_nstar)\n",
    "\n",
    "g2_ndm = len(g2_part1_ids)\n",
    "g2_nstar = len(g2_part2_ids)\n",
    "print(g2_ndm, g2_nstar)"
   ]
  },
  {
   "cell_type": "code",
   "execution_count": 13,
   "metadata": {},
   "outputs": [],
   "source": [
    "g1_part1_ids_join = g1_part1_ids\n",
    "g1_part2_ids_join = g1_part2_ids\n",
    "g2_part1_ids_join = g2_part1_ids + g1_ndm + g1_nstar\n",
    "g2_part2_ids_join = g2_part2_ids + g1_ndm + g1_nstar"
   ]
  },
  {
   "cell_type": "code",
   "execution_count": 14,
   "metadata": {},
   "outputs": [
    {
     "data": {
      "text/plain": [
       "(0.0, 1500.0)"
      ]
     },
     "execution_count": 14,
     "metadata": {},
     "output_type": "execute_result"
    },
    {
     "data": {
      "image/png": "[encoded data removed]",
      "text/plain": [
       "<Figure size 432x288 with 1 Axes>"
      ]
     },
     "metadata": {
      "needs_background": "light"
     },
     "output_type": "display_data"
    }
   ],
   "source": [
    "plt.hist(g1_part1_ids_join, bins=1000, histtype='step')\n",
    "plt.hist(g1_part2_ids_join, bins=1000, histtype='step')\n",
    "plt.hist(g2_part1_ids_join, bins=1000, histtype='step')\n",
    "plt.hist(g2_part2_ids_join, bins=1000, histtype='step')\n",
    "plt.xscale('log')\n",
    "plt.xlim([1e5, 2e6])\n",
    "plt.ylim([0, 1500])"
   ]
  },
  {
   "cell_type": "code",
   "execution_count": 15,
   "metadata": {},
   "outputs": [
    {
     "data": {
      "text/plain": [
       "\"\\nplt.hist(comp['PartType1']['ParticleIDs'], bins=1000, histtype='step')\\nplt.hist(comp['PartType2']['ParticleIDs'], bins=1000, histtype='step')\\nplt.xscale('log')\\nplt.xlim([1e5, 2e6])\\nplt.ylim([0, 1500])\\n\""
      ]
     },
     "execution_count": 15,
     "metadata": {},
     "output_type": "execute_result"
    }
   ],
   "source": [
    "\"\"\"\n",
    "plt.hist(comp['PartType1']['ParticleIDs'], bins=1000, histtype='step')\n",
    "plt.hist(comp['PartType2']['ParticleIDs'], bins=1000, histtype='step')\n",
    "plt.xscale('log')\n",
    "plt.xlim([1e5, 2e6])\n",
    "plt.ylim([0, 1500])\n",
    "\"\"\""
   ]
  },
  {
   "cell_type": "markdown",
   "metadata": {},
   "source": [
    "# Concatenate gal1 and gal2 arrays"
   ]
  },
  {
   "cell_type": "code",
   "execution_count": 16,
   "metadata": {},
   "outputs": [
    {
     "name": "stdout",
     "output_type": "stream",
     "text": [
      "1180000 121000\n"
     ]
    }
   ],
   "source": [
    "part1_coords = np.concatenate((g1_part1_coords_cm, g2_part1_coords_cm))\n",
    "part2_coords = np.concatenate((g1_part2_coords_cm, g2_part2_coords_cm))\n",
    "print(len(part1_coords), len(part2_coords))"
   ]
  },
  {
   "cell_type": "code",
   "execution_count": 17,
   "metadata": {},
   "outputs": [
    {
     "name": "stdout",
     "output_type": "stream",
     "text": [
      "1180000 121000\n"
     ]
    }
   ],
   "source": [
    "part1_vels = np.concatenate((g1_part1_vels_cm, g2_part1_vels_cm))\n",
    "part2_vels = np.concatenate((g1_part2_vels_cm, g2_part2_vels_cm))\n",
    "print(len(part1_vels), len(part2_vels))"
   ]
  },
  {
   "cell_type": "code",
   "execution_count": 18,
   "metadata": {},
   "outputs": [
    {
     "name": "stdout",
     "output_type": "stream",
     "text": [
      "1180000 121000\n"
     ]
    }
   ],
   "source": [
    "part1_ids = np.concatenate((g1_part1_ids_join, g2_part1_ids_join))\n",
    "part2_ids = np.concatenate((g1_part2_ids_join, g2_part2_ids_join))\n",
    "print(len(part1_ids), len(part2_ids))"
   ]
  },
  {
   "cell_type": "code",
   "execution_count": 19,
   "metadata": {},
   "outputs": [
    {
     "name": "stdout",
     "output_type": "stream",
     "text": [
      "1180000 121000\n"
     ]
    }
   ],
   "source": [
    "part1_mass = np.concatenate((g1_part1_mass, g2_part1_mass))\n",
    "part2_mass = np.concatenate((g1_part2_mass, g2_part2_mass))\n",
    "print(len(part1_mass), len(part2_mass))"
   ]
  },
  {
   "cell_type": "code",
   "execution_count": 20,
   "metadata": {},
   "outputs": [
    {
     "data": {
      "text/plain": [
       "(0.0, 1500.0)"
      ]
     },
     "execution_count": 20,
     "metadata": {},
     "output_type": "execute_result"
    },
    {
     "data": {
      "image/png": "[encoded data removed]",
      "text/plain": [
       "<Figure size 432x288 with 1 Axes>"
      ]
     },
     "metadata": {
      "needs_background": "light"
     },
     "output_type": "display_data"
    }
   ],
   "source": [
    "plt.hist(part1_ids, bins=1000, histtype='step')\n",
    "plt.hist(part2_ids, bins=1000, histtype='step')\n",
    "plt.xscale('log')\n",
    "plt.xlim([1e5, 2e6])\n",
    "plt.ylim([0, 1500])"
   ]
  },
  {
   "cell_type": "code",
   "execution_count": 21,
   "metadata": {},
   "outputs": [
    {
     "data": {
      "image/png": "[encoded data removed]",
      "text/plain": [
       "<Figure size 432x288 with 1 Axes>"
      ]
     },
     "metadata": {
      "needs_background": "light"
     },
     "output_type": "display_data"
    }
   ],
   "source": [
    "plt.hist(part1_coords[:,2], range=(-200,200), bins=100)\n",
    "plt.hist(part2_coords[:,2], range=(-200,200), bins=100)\n",
    "plt.show()"
   ]
  },
  {
   "cell_type": "code",
   "execution_count": 22,
   "metadata": {},
   "outputs": [
    {
     "data": {
      "image/png": "[encoded data removed]",
      "text/plain": [
       "<Figure size 432x288 with 1 Axes>"
      ]
     },
     "metadata": {
      "needs_background": "light"
     },
     "output_type": "display_data"
    }
   ],
   "source": [
    "plt.hist(part1_vels[:,0], range=(-300,300), bins=100)\n",
    "plt.hist(part2_vels[:,0], range=(-300,300), bins=100)\n",
    "plt.show()"
   ]
  },
  {
   "cell_type": "markdown",
   "metadata": {},
   "source": [
    "# Save to hdf5 file"
   ]
  },
  {
   "cell_type": "code",
   "execution_count": 23,
   "metadata": {},
   "outputs": [
    {
     "name": "stdout",
     "output_type": "stream",
     "text": [
      "/scratch/gpfs/mlisanti/Selfcons--80-50--8-140--50-30/ICs/\n",
      "MW_SIDM10v_Sat_SIDM10v--80-50--8-140--50-30.hdf5\n"
     ]
    }
   ],
   "source": [
    "directory = '/scratch/gpfs/mlisanti/Selfcons-' + \\\n",
    "                str(g2_xyz_start[0]) + '-' + str(g2_xyz_start[1]) + '-' + str(g2_xyz_start[2]) + '-' + \\\n",
    "                str(g2_vxyz_start[0]) + '-' + str(g2_vxyz_start[1]) + '-' + str(g2_vxyz_start[2]) + \\\n",
    "                '/ICs/'\n",
    "\n",
    "output_filename = 'MW_' + gal1_type + '_Sat_' + gal2_type + '-' + \\\n",
    "                str(g2_xyz_start[0]) + '-' + str(g2_xyz_start[1]) + '-' + str(g2_xyz_start[2]) + '-' + \\\n",
    "                str(g2_vxyz_start[0]) + '-' + str(g2_vxyz_start[1]) + '-' + str(g2_vxyz_start[2]) + '.hdf5'\n",
    "\n",
    "print(directory)\n",
    "print(output_filename)"
   ]
  },
  {
   "cell_type": "code",
   "execution_count": 24,
   "metadata": {},
   "outputs": [],
   "source": [
    "if os.path.exists(directory + output_filename):\n",
    "    os.remove(directory + output_filename)\n",
    "else:\n",
    "    print(\"Cannot delete the file as it does not exist\")"
   ]
  },
  {
   "cell_type": "code",
   "execution_count": 25,
   "metadata": {},
   "outputs": [],
   "source": [
    "file = h5py.File(directory + output_filename, 'w')"
   ]
  },
  {
   "cell_type": "code",
   "execution_count": 26,
   "metadata": {},
   "outputs": [
    {
     "name": "stdout",
     "output_type": "stream",
     "text": [
      "[      0 1180000  121000       0       0       0]\n"
     ]
    }
   ],
   "source": [
    "npart = np.array([0,g1_ndm + g2_ndm, g1_nstar+g2_nstar,0,0,0])\n",
    "print(npart)"
   ]
  },
  {
   "cell_type": "code",
   "execution_count": 27,
   "metadata": {},
   "outputs": [],
   "source": [
    "h = file.create_group('Header')\n",
    "h.attrs['NumPart_ThisFile'] = npart   \n",
    "h.attrs['NumPart_Total'] = npart                  \n",
    "h.attrs['NumPart_Total_HighWord'] = 0*npart \n",
    "\n",
    "## everything below this point will just be written over\n",
    "## need to set values for the code to read\n",
    "\n",
    "h.attrs['MassTable'] = np.zeros(6)\n",
    "h.attrs['Time'] = 0.0  \n",
    "h.attrs['Redshift'] = 0.0 \n",
    "h.attrs['BoxSize'] = 1.0 \n",
    "h.attrs['NumFilesPerSnapshot'] = 1                                      \n",
    "h.attrs['Omega0'] = 1.0 \n",
    "h.attrs['OmegaLambda'] = 0.0 \n",
    "h.attrs['HubbleParam'] = 1.0                                                                    \n",
    "h.attrs['Flag_Sfr'] = 0 \n",
    "h.attrs['Flag_Cooling'] = 0 \n",
    "h.attrs['Flag_StellarAge'] = 0 \n",
    "h.attrs['Flag_Metals'] = 0 \n",
    "h.attrs['Flag_Feedback'] = 0 \n",
    "h.attrs['Flag_DoublePrecision'] = 0\n",
    "h.attrs['Flag_IC_Info'] = 0"
   ]
  },
  {
   "cell_type": "code",
   "execution_count": 28,
   "metadata": {},
   "outputs": [
    {
     "data": {
      "text/plain": [
       "<HDF5 dataset \"Masses\": shape (1180000,), type \"<f4\">"
      ]
     },
     "execution_count": 28,
     "metadata": {},
     "output_type": "execute_result"
    }
   ],
   "source": [
    "p1 = file.create_group('PartType1')\n",
    "p1.create_dataset('Coordinates', data=part1_coords)\n",
    "p1.create_dataset('Velocities', data=part1_vels)\n",
    "p1.create_dataset('ParticleIDs', data=part1_ids)\n",
    "p1.create_dataset('Masses', data=part1_mass)"
   ]
  },
  {
   "cell_type": "code",
   "execution_count": 29,
   "metadata": {},
   "outputs": [
    {
     "data": {
      "text/plain": [
       "<HDF5 dataset \"Masses\": shape (121000,), type \"<f4\">"
      ]
     },
     "execution_count": 29,
     "metadata": {},
     "output_type": "execute_result"
    }
   ],
   "source": [
    "p2 = file.create_group('PartType2')\n",
    "p2.create_dataset('Coordinates', data=part2_coords)\n",
    "p2.create_dataset('Velocities', data=part2_vels)\n",
    "p2.create_dataset('ParticleIDs', data=part2_ids)\n",
    "p2.create_dataset('Masses', data=part2_mass)"
   ]
  },
  {
   "cell_type": "code",
   "execution_count": 30,
   "metadata": {},
   "outputs": [],
   "source": [
    "file.close()"
   ]
  },
  {
   "cell_type": "code",
   "execution_count": 31,
   "metadata": {},
   "outputs": [],
   "source": [
    "test = h5py.File(directory + output_filename,'r')"
   ]
  },
  {
   "cell_type": "code",
   "execution_count": 32,
   "metadata": {},
   "outputs": [
    {
     "data": {
      "text/plain": [
       "<KeysViewHDF5 ['Header', 'PartType1', 'PartType2']>"
      ]
     },
     "execution_count": 32,
     "metadata": {},
     "output_type": "execute_result"
    }
   ],
   "source": [
    "test.keys()"
   ]
  },
  {
   "cell_type": "code",
   "execution_count": 33,
   "metadata": {},
   "outputs": [
    {
     "data": {
      "text/plain": [
       "[]"
      ]
     },
     "execution_count": 33,
     "metadata": {},
     "output_type": "execute_result"
    }
   ],
   "source": [
    "list(test['Header'].keys())"
   ]
  },
  {
   "cell_type": "code",
   "execution_count": 34,
   "metadata": {},
   "outputs": [
    {
     "data": {
      "text/plain": [
       "(0.0, 1500.0)"
      ]
     },
     "execution_count": 34,
     "metadata": {},
     "output_type": "execute_result"
    },
    {
     "data": {
      "image/png": "[encoded data removed]",
      "text/plain": [
       "<Figure size 432x288 with 1 Axes>"
      ]
     },
     "metadata": {
      "needs_background": "light"
     },
     "output_type": "display_data"
    }
   ],
   "source": [
    "plt.hist(test['PartType1']['ParticleIDs'][:], bins=1000, histtype='step')\n",
    "plt.hist(test['PartType2']['ParticleIDs'][:], bins=1000, histtype='step')\n",
    "plt.xscale('log')\n",
    "plt.xlim([1e5, 2e6])\n",
    "plt.ylim([0, 1500])"
   ]
  },
  {
   "cell_type": "code",
   "execution_count": 39,
   "metadata": {},
   "outputs": [
    {
     "data": {
      "image/png": "[encoded data removed]",
      "text/plain": [
       "<Figure size 432x288 with 1 Axes>"
      ]
     },
     "metadata": {
      "needs_background": "light"
     },
     "output_type": "display_data"
    }
   ],
   "source": [
    "plt.hist(test['PartType1']['Coordinates'][:,0], range=(-200,200), bins=100)\n",
    "plt.show()"
   ]
  },
  {
   "cell_type": "code",
   "execution_count": 36,
   "metadata": {},
   "outputs": [
    {
     "data": {
      "text/plain": [
       "<KeysViewHDF5 ['Header', 'PartType1', 'PartType2']>"
      ]
     },
     "execution_count": 36,
     "metadata": {},
     "output_type": "execute_result"
    }
   ],
   "source": [
    "comp.keys()"
   ]
  },
  {
   "cell_type": "code",
   "execution_count": 37,
   "metadata": {},
   "outputs": [
    {
     "data": {
      "text/plain": [
       "<KeysViewHDF5 ['Coordinates', 'Masses', 'ParticleIDs', 'Velocities']>"
      ]
     },
     "execution_count": 37,
     "metadata": {},
     "output_type": "execute_result"
    }
   ],
   "source": [
    "test['PartType2'].keys()"
   ]
  },
  {
   "cell_type": "code",
   "execution_count": 38,
   "metadata": {},
   "outputs": [
    {
     "data": {
      "text/plain": [
       "<KeysViewHDF5 ['Coordinates', 'Masses', 'ParticleIDs', 'Velocities']>"
      ]
     },
     "execution_count": 38,
     "metadata": {},
     "output_type": "execute_result"
    }
   ],
   "source": [
    "comp['PartType2'].keys()"
   ]
  },
  {
   "cell_type": "code",
   "execution_count": null,
   "metadata": {},
   "outputs": [],
   "source": []
  }
 ],
 "metadata": {
  "anaconda-cloud": {},
  "kernelspec": {
   "display_name": "Python 3",
   "language": "python",
   "name": "python3"
  },
  "language_info": {
   "codemirror_mode": {
    "name": "ipython",
    "version": 3
   },
   "file_extension": ".py",
   "mimetype": "text/x-python",
   "name": "python",
   "nbconvert_exporter": "python",
   "pygments_lexer": "ipython3",
   "version": "3.7.7"
  }
 },
 "nbformat": 4,
 "nbformat_minor": 4
}
