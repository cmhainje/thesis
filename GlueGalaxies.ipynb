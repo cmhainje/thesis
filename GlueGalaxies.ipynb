{
 "cells": [
  {
   "cell_type": "code",
   "execution_count": 1,
   "metadata": {},
   "outputs": [],
   "source": [
    "import numpy as np\n",
    "import matplotlib.pyplot as plt\n",
    "\n",
    "import h5py\n",
    "import os\n",
    "from glob import glob"
   ]
  },
  {
   "cell_type": "code",
   "execution_count": 2,
   "metadata": {},
   "outputs": [],
   "source": [
    "# gal1_type='SIDM10v'\n",
    "# gal2_type='SIDM10v'"
   ]
  },
  {
   "cell_type": "markdown",
   "metadata": {},
   "source": [
    "# Define input conditions"
   ]
  },
  {
   "cell_type": "code",
   "execution_count": 3,
   "metadata": {},
   "outputs": [],
   "source": [
<<<<<<< HEAD
    "sim_dir = '/home/chainje/thesis/simulation/halos_only'\n",
    "mw_snap = sorted(glob(f'{sim_dir}/mw/output/snapshot_*.hdf5'))[-1]\n",
    "sgr_snap = sorted(glob(f'{sim_dir}/sgr/output/snapshot_*.hdf5'))[-1]\n",
    "\n",
    "g1 = h5py.File(mw_snap, 'r')\n",
    "g2 = h5py.File(sgr_snap, 'r')"
=======
    "g1 = h5py.File('/home/chainje/thesis/simulation/halos_only/mw/mw_halo_only_gadget.out','r')\n",
    "g2 = h5py.File('/scratch/gpfs/mlisanti/Sat_evolution/' + gal2_type + '/output/snapshot_051.hdf5','r')"
>>>>>>> 7307f7c4702a96cbeb178b29e96673b9f162f825
   ]
  },
  {
   "cell_type": "markdown",
   "metadata": {},
   "source": [
    "Define the following as integers since they are used in filename..."
   ]
  },
  {
   "cell_type": "code",
   "execution_count": 4,
   "metadata": {},
   "outputs": [],
   "source": [
    "g1_xyz_start  = np.array([0, 0, 0])\n",
    "g1_vxyz_start = np.array([0, 0, 0])\n",
    "\n",
    "g2_xyz_start  = np.array([125, 0, 0])\n",
    "g2_vxyz_start = np.array([-10, 0, 70])"
   ]
  },
  {
   "cell_type": "code",
   "execution_count": 5,
   "metadata": {},
   "outputs": [],
   "source": [
    "# comp = h5py.File('/scratch/gpfs/mlisanti/foo/outputfiles/MW_cuspy_Sat_cuspy--80-50--8-140--50-30.hdf5','r')"
   ]
  },
  {
   "cell_type": "markdown",
   "metadata": {},
   "source": [
    "# Shift gal1 and gal2 to their specified initial position and velocity"
   ]
  },
  {
   "cell_type": "code",
   "execution_count": 6,
   "metadata": {},
   "outputs": [],
   "source": [
    "g1_part1_coords = g1['PartType1']['Coordinates'] + g1_xyz_start\n",
    "g1_part1_vels = g1['PartType1']['Velocities'] + g1_vxyz_start\n",
    "g1_part1_mass = g1['PartType1']['Masses'][:]\n",
    "g1_part1_ids = g1['PartType1']['ParticleIDs'][:]\n",
    "\n",
    "g1_part2_coords = g1['PartType2']['Coordinates'] + g1_xyz_start\n",
    "g1_part2_vels = g1['PartType2']['Velocities'] + g1_vxyz_start\n",
    "g1_part2_mass = g1['PartType2']['Masses'][:]\n",
    "g1_part2_ids = g1['PartType2']['ParticleIDs'][:]"
   ]
  },
  {
   "cell_type": "code",
   "execution_count": 7,
   "metadata": {},
   "outputs": [],
   "source": [
    "g2_part1_coords = g2['PartType1']['Coordinates'] + g2_xyz_start\n",
    "g2_part1_vels = g2['PartType1']['Velocities'] + g2_vxyz_start\n",
    "g2_part1_mass = g2['PartType1']['Masses'][:]\n",
    "g2_part1_ids = g2['PartType1']['ParticleIDs'][:]\n",
    "\n",
    "g2_part2_coords = g2['PartType2']['Coordinates'] + g2_xyz_start\n",
    "g2_part2_vels = g2['PartType2']['Velocities'] + g2_vxyz_start\n",
    "g2_part2_mass = g2['PartType2']['Masses'][:]\n",
    "g2_part2_ids = g2['PartType2']['ParticleIDs'][:]"
   ]
  },
  {
   "cell_type": "markdown",
   "metadata": {},
   "source": [
    "# Shift gal1 and gal2 to the COM and COV frame"
   ]
  },
  {
   "cell_type": "code",
   "execution_count": 8,
   "metadata": {},
   "outputs": [],
   "source": [
    "def find_com():\n",
    "    \n",
    "    Mtot = np.sum(g1_part1_mass) + np.sum(g1_part2_mass) + np.sum(g2_part1_mass) +  np.sum(g2_part2_mass)\n",
    "\n",
    "    R_cm = []\n",
    "    \n",
    "    for i in range(3):\n",
    "        xyz_cm = np.sum(g1_part1_coords[:,i] * g1_part1_mass) + np.sum(g1_part2_coords[:,i] * g1_part2_mass)\n",
    "        xyz_cm += np.sum(g2_part1_coords[:,i] * g2_part1_mass) + np.sum(g2_part2_coords[:,i] * g2_part2_mass)\n",
    "        xyz_cm /= Mtot\n",
    "        \n",
    "        R_cm.append(xyz_cm)\n",
    "        \n",
    "    return np.array(R_cm)\n",
    "\n",
    "def find_cov():\n",
    "    \n",
    "    Mtot = np.sum(g1_part1_mass) + np.sum(g1_part2_mass) + np.sum(g2_part1_mass) +  np.sum(g2_part2_mass)\n",
    "\n",
    "    V_cm = []\n",
    "    \n",
    "    for i in range(3):\n",
    "        vxyz_cm = np.sum(g1_part1_vels[:,i] * g1_part1_mass) + np.sum(g1_part2_vels[:,i] * g1_part2_mass)\n",
    "        vxyz_cm += np.sum(g2_part1_vels[:,i] * g2_part1_mass) + np.sum(g2_part2_vels[:,i] * g2_part2_mass)\n",
    "        vxyz_cm /= Mtot\n",
    "        \n",
    "        V_cm.append(vxyz_cm)\n",
    "        \n",
    "    return np.array(V_cm)\n",
    "    "
   ]
  },
  {
   "cell_type": "code",
   "execution_count": 9,
   "metadata": {},
   "outputs": [
    {
     "name": "stdout",
     "output_type": "stream",
     "text": [
      "[ 37.69942535 -22.88516625 -27.2867056 ]\n",
      "[ 2.90404113 -1.28941391 -1.98692837]\n"
     ]
    }
   ],
   "source": [
    "Rcm = find_com()\n",
    "print(Rcm)\n",
    "Vcm = find_cov()\n",
    "print(Vcm)"
   ]
  },
  {
   "cell_type": "code",
   "execution_count": 10,
   "metadata": {},
   "outputs": [],
   "source": [
    "g1_part1_coords_cm = g1_part1_coords - Rcm\n",
    "g1_part2_coords_cm = g1_part2_coords - Rcm\n",
    "\n",
    "g1_part1_vels_cm = g1_part1_vels - Vcm\n",
    "g1_part2_vels_cm = g1_part2_vels - Vcm"
   ]
  },
  {
   "cell_type": "code",
   "execution_count": 11,
   "metadata": {},
   "outputs": [],
   "source": [
    "g2_part1_coords_cm = g2_part1_coords - Rcm\n",
    "g2_part2_coords_cm = g2_part2_coords - Rcm\n",
    "\n",
    "g2_part1_vels_cm = g2_part1_vels - Vcm\n",
    "g2_part2_vels_cm = g2_part2_vels - Vcm"
   ]
  },
  {
   "cell_type": "markdown",
   "metadata": {},
   "source": [
    "# Join up the files and align Particle IDs"
   ]
  },
  {
   "cell_type": "code",
   "execution_count": 12,
   "metadata": {},
   "outputs": [
    {
     "name": "stdout",
     "output_type": "stream",
     "text": [
      "100000 1000\n",
      "10000 100\n"
     ]
    }
   ],
   "source": [
    "g1_ndm = len(g1_part1_ids)\n",
    "g1_nstar = len(g1_part2_ids)\n",
    "print(g1_ndm, g1_nstar)\n",
    "\n",
    "g2_ndm = len(g2_part1_ids)\n",
    "g2_nstar = len(g2_part2_ids)\n",
    "print(g2_ndm, g2_nstar)"
   ]
  },
  {
   "cell_type": "code",
   "execution_count": 13,
   "metadata": {},
   "outputs": [],
   "source": [
    "g1_part1_ids_join = g1_part1_ids\n",
    "g1_part2_ids_join = g1_part2_ids\n",
    "g2_part1_ids_join = g2_part1_ids + g1_ndm + g1_nstar\n",
    "g2_part2_ids_join = g2_part2_ids + g1_ndm + g1_nstar"
   ]
  },
  {
   "cell_type": "code",
   "execution_count": 14,
   "metadata": {},
   "outputs": [
    {
     "data": {
      "text/plain": [
       "(0.0, 1500.0)"
      ]
     },
     "execution_count": 14,
     "metadata": {},
     "output_type": "execute_result"
    },
    {
     "data": {
      "image/png": "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\n",
      "text/plain": [
       "<Figure size 432x288 with 1 Axes>"
      ]
     },
     "metadata": {
      "needs_background": "light"
     },
     "output_type": "display_data"
    }
   ],
   "source": [
    "plt.hist(g1_part1_ids_join, bins=1000, histtype='step')\n",
    "plt.hist(g1_part2_ids_join, bins=1000, histtype='step')\n",
    "plt.hist(g2_part1_ids_join, bins=1000, histtype='step')\n",
    "plt.hist(g2_part2_ids_join, bins=1000, histtype='step')\n",
    "plt.xscale('log')\n",
    "plt.xlim([1e5, 2e6])\n",
    "plt.ylim([0, 1500])"
   ]
  },
  {
   "cell_type": "code",
   "execution_count": 15,
   "metadata": {},
   "outputs": [
    {
     "data": {
      "text/plain": [
       "\"\\nplt.hist(comp['PartType1']['ParticleIDs'], bins=1000, histtype='step')\\nplt.hist(comp['PartType2']['ParticleIDs'], bins=1000, histtype='step')\\nplt.xscale('log')\\nplt.xlim([1e5, 2e6])\\nplt.ylim([0, 1500])\\n\""
      ]
     },
     "execution_count": 15,
     "metadata": {},
     "output_type": "execute_result"
    }
   ],
   "source": [
    "\"\"\"\n",
    "plt.hist(comp['PartType1']['ParticleIDs'], bins=1000, histtype='step')\n",
    "plt.hist(comp['PartType2']['ParticleIDs'], bins=1000, histtype='step')\n",
    "plt.xscale('log')\n",
    "plt.xlim([1e5, 2e6])\n",
    "plt.ylim([0, 1500])\n",
    "\"\"\""
   ]
  },
  {
   "cell_type": "markdown",
   "metadata": {},
   "source": [
    "# Concatenate gal1 and gal2 arrays"
   ]
  },
  {
   "cell_type": "code",
   "execution_count": 16,
   "metadata": {},
   "outputs": [
    {
     "name": "stdout",
     "output_type": "stream",
     "text": [
      "110000 1100\n"
     ]
    }
   ],
   "source": [
    "part1_coords = np.concatenate((g1_part1_coords_cm, g2_part1_coords_cm))\n",
    "part2_coords = np.concatenate((g1_part2_coords_cm, g2_part2_coords_cm))\n",
    "print(len(part1_coords), len(part2_coords))"
   ]
  },
  {
   "cell_type": "code",
   "execution_count": 17,
   "metadata": {},
   "outputs": [
    {
     "name": "stdout",
     "output_type": "stream",
     "text": [
      "110000 1100\n"
     ]
    }
   ],
   "source": [
    "part1_vels = np.concatenate((g1_part1_vels_cm, g2_part1_vels_cm))\n",
    "part2_vels = np.concatenate((g1_part2_vels_cm, g2_part2_vels_cm))\n",
    "print(len(part1_vels), len(part2_vels))"
   ]
  },
  {
   "cell_type": "code",
   "execution_count": 18,
   "metadata": {},
   "outputs": [
    {
     "name": "stdout",
     "output_type": "stream",
     "text": [
      "110000 1100\n"
     ]
    }
   ],
   "source": [
    "part1_ids = np.concatenate((g1_part1_ids_join, g2_part1_ids_join))\n",
    "part2_ids = np.concatenate((g1_part2_ids_join, g2_part2_ids_join))\n",
    "print(len(part1_ids), len(part2_ids))"
   ]
  },
  {
   "cell_type": "code",
   "execution_count": 19,
   "metadata": {},
   "outputs": [
    {
     "name": "stdout",
     "output_type": "stream",
     "text": [
      "110000 1100\n"
     ]
    }
   ],
   "source": [
    "part1_mass = np.concatenate((g1_part1_mass, g2_part1_mass))\n",
    "part2_mass = np.concatenate((g1_part2_mass, g2_part2_mass))\n",
    "print(len(part1_mass), len(part2_mass))"
   ]
  },
  {
   "cell_type": "code",
   "execution_count": 20,
   "metadata": {},
   "outputs": [
    {
     "data": {
      "text/plain": [
       "(0.0, 1500.0)"
      ]
     },
     "execution_count": 20,
     "metadata": {},
     "output_type": "execute_result"
    },
    {
     "data": {
      "image/png": "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\n",
      "text/plain": [
       "<Figure size 432x288 with 1 Axes>"
      ]
     },
     "metadata": {
      "needs_background": "light"
     },
     "output_type": "display_data"
    }
   ],
   "source": [
    "plt.hist(part1_ids, bins=1000, histtype='step')\n",
    "plt.hist(part2_ids, bins=1000, histtype='step')\n",
    "plt.xscale('log')\n",
    "plt.xlim([1e5, 2e6])\n",
    "plt.ylim([0, 1500])"
   ]
  },
  {
   "cell_type": "code",
   "execution_count": 21,
   "metadata": {},
   "outputs": [
    {
     "data": {
      "image/png": "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\n",
      "text/plain": [
       "<Figure size 432x288 with 1 Axes>"
      ]
     },
     "metadata": {
      "needs_background": "light"
     },
     "output_type": "display_data"
    }
   ],
   "source": [
    "plt.hist(part1_coords[:,2], range=(-200,200), bins=100)\n",
    "plt.hist(part2_coords[:,2], range=(-200,200), bins=100)\n",
    "plt.show()"
   ]
  },
  {
   "cell_type": "code",
   "execution_count": 22,
   "metadata": {},
   "outputs": [
    {
     "data": {
      "image/png": "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\n",
      "text/plain": [
       "<Figure size 432x288 with 1 Axes>"
      ]
     },
     "metadata": {
      "needs_background": "light"
     },
     "output_type": "display_data"
    }
   ],
   "source": [
    "plt.hist(part1_vels[:,0], range=(-300,300), bins=100)\n",
    "plt.hist(part2_vels[:,0], range=(-300,300), bins=100)\n",
    "plt.show()"
   ]
  },
  {
   "cell_type": "markdown",
   "metadata": {},
   "source": [
    "# Save to hdf5 file"
   ]
  },
  {
   "cell_type": "code",
   "execution_count": 23,
   "metadata": {},
   "outputs": [
    {
     "name": "stdout",
     "output_type": "stream",
     "text": [
      "/home/chainje/thesis/simulation/halos_only/combined/ic.hdf5\n"
     ]
    }
   ],
   "source": [
    "# directory = '/scratch/gpfs/mlisanti/Selfcons-' + \\\n",
    "#                 str(g2_xyz_start[0]) + '-' + str(g2_xyz_start[1]) + '-' + str(g2_xyz_start[2]) + '-' + \\\n",
    "#                 str(g2_vxyz_start[0]) + '-' + str(g2_vxyz_start[1]) + '-' + str(g2_vxyz_start[2]) + \\\n",
    "#                 '/ICs/'\n",
    "\n",
    "# output_filename = 'MW_' + gal1_type + '_Sat_' + gal2_type + '-' + \\\n",
    "#                 str(g2_xyz_start[0]) + '-' + str(g2_xyz_start[1]) + '-' + str(g2_xyz_start[2]) + '-' + \\\n",
    "#                 str(g2_vxyz_start[0]) + '-' + str(g2_vxyz_start[1]) + '-' + str(g2_vxyz_start[2]) + '.hdf5'\n",
    "\n",
    "# print(directory)\n",
    "\n",
    "output_filename = f'{sim_dir}/combined/ic.hdf5'\n",
    "print(output_filename)"
   ]
  },
  {
   "cell_type": "code",
   "execution_count": 24,
   "metadata": {},
   "outputs": [],
   "source": [
    "if os.path.exists(output_filename):\n",
    "    os.remove(output_filename)\n",
    "else:\n",
    "    print(\"Cannot delete the file as it does not exist\")"
   ]
  },
  {
   "cell_type": "code",
   "execution_count": 25,
   "metadata": {},
   "outputs": [],
   "source": [
    "file = h5py.File(output_filename, 'w')"
   ]
  },
  {
   "cell_type": "code",
   "execution_count": 26,
   "metadata": {},
   "outputs": [
    {
     "name": "stdout",
     "output_type": "stream",
     "text": [
      "[     0 110000   1100      0      0      0]\n"
     ]
    }
   ],
   "source": [
    "npart = np.array([0,g1_ndm + g2_ndm, g1_nstar+g2_nstar,0,0,0])\n",
    "print(npart)"
   ]
  },
  {
   "cell_type": "code",
   "execution_count": 27,
   "metadata": {},
   "outputs": [],
   "source": [
    "h = file.create_group('Header')\n",
    "h.attrs['NumPart_ThisFile'] = npart   \n",
    "h.attrs['NumPart_Total'] = npart                  \n",
    "h.attrs['NumPart_Total_HighWord'] = 0*npart \n",
    "\n",
    "## everything below this point will just be written over\n",
    "## need to set values for the code to read\n",
    "\n",
    "h.attrs['MassTable'] = np.zeros(6)\n",
    "h.attrs['Time'] = 0.0  \n",
    "h.attrs['Redshift'] = 0.0 \n",
    "h.attrs['BoxSize'] = 1.0 \n",
    "h.attrs['NumFilesPerSnapshot'] = 1                                      \n",
    "h.attrs['Omega0'] = 1.0 \n",
    "h.attrs['OmegaLambda'] = 0.0 \n",
    "h.attrs['HubbleParam'] = 1.0                                                                    \n",
    "h.attrs['Flag_Sfr'] = 0 \n",
    "h.attrs['Flag_Cooling'] = 0 \n",
    "h.attrs['Flag_StellarAge'] = 0 \n",
    "h.attrs['Flag_Metals'] = 0 \n",
    "h.attrs['Flag_Feedback'] = 0 \n",
    "h.attrs['Flag_DoublePrecision'] = 0\n",
    "h.attrs['Flag_IC_Info'] = 0"
   ]
  },
  {
   "cell_type": "code",
   "execution_count": 28,
   "metadata": {},
   "outputs": [
    {
     "data": {
      "text/plain": [
       "<HDF5 dataset \"Masses\": shape (110000,), type \"<f4\">"
      ]
     },
     "execution_count": 28,
     "metadata": {},
     "output_type": "execute_result"
    }
   ],
   "source": [
    "p1 = file.create_group('PartType1')\n",
    "p1.create_dataset('Coordinates', data=part1_coords)\n",
    "p1.create_dataset('Velocities', data=part1_vels)\n",
    "p1.create_dataset('ParticleIDs', data=part1_ids)\n",
    "p1.create_dataset('Masses', data=part1_mass)"
   ]
  },
  {
   "cell_type": "code",
   "execution_count": 29,
   "metadata": {},
   "outputs": [
    {
     "data": {
      "text/plain": [
       "<HDF5 dataset \"Masses\": shape (1100,), type \"<f4\">"
      ]
     },
     "execution_count": 29,
     "metadata": {},
     "output_type": "execute_result"
    }
   ],
   "source": [
    "p2 = file.create_group('PartType2')\n",
    "p2.create_dataset('Coordinates', data=part2_coords)\n",
    "p2.create_dataset('Velocities', data=part2_vels)\n",
    "p2.create_dataset('ParticleIDs', data=part2_ids)\n",
    "p2.create_dataset('Masses', data=part2_mass)"
   ]
  },
  {
   "cell_type": "code",
   "execution_count": 30,
   "metadata": {},
   "outputs": [],
   "source": [
    "file.close()"
   ]
  },
  {
   "cell_type": "code",
   "execution_count": 31,
   "metadata": {},
   "outputs": [],
   "source": [
    "test = h5py.File(output_filename,'r')"
   ]
  },
  {
   "cell_type": "code",
   "execution_count": 32,
   "metadata": {},
   "outputs": [
    {
     "data": {
      "text/plain": [
       "<KeysViewHDF5 ['Header', 'PartType1', 'PartType2']>"
      ]
     },
     "execution_count": 32,
     "metadata": {},
     "output_type": "execute_result"
    }
   ],
   "source": [
    "test.keys()"
   ]
  },
  {
   "cell_type": "code",
   "execution_count": 33,
   "metadata": {},
   "outputs": [
    {
     "data": {
      "text/plain": [
       "[]"
      ]
     },
     "execution_count": 33,
     "metadata": {},
     "output_type": "execute_result"
    }
   ],
   "source": [
    "list(test['Header'].keys())"
   ]
  },
  {
   "cell_type": "code",
   "execution_count": 34,
   "metadata": {},
   "outputs": [
    {
     "data": {
      "text/plain": [
       "(0.0, 1500.0)"
      ]
     },
     "execution_count": 34,
     "metadata": {},
     "output_type": "execute_result"
    },
    {
     "data": {
      "image/png": "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\n",
      "text/plain": [
       "<Figure size 432x288 with 1 Axes>"
      ]
     },
     "metadata": {
      "needs_background": "light"
     },
     "output_type": "display_data"
    }
   ],
   "source": [
    "plt.hist(test['PartType1']['ParticleIDs'][:], bins=1000, histtype='step')\n",
    "plt.hist(test['PartType2']['ParticleIDs'][:], bins=1000, histtype='step')\n",
    "plt.xscale('log')\n",
    "plt.xlim([1e5, 2e6])\n",
    "plt.ylim([0, 1500])"
   ]
  },
  {
   "cell_type": "code",
   "execution_count": 35,
   "metadata": {},
   "outputs": [
    {
     "data": {
      "image/png": "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\n",
      "text/plain": [
       "<Figure size 432x288 with 1 Axes>"
      ]
     },
     "metadata": {
      "needs_background": "light"
     },
     "output_type": "display_data"
    }
   ],
   "source": [
    "plt.hist(test['PartType1']['Coordinates'][:,0], range=(-200,200), bins=100)\n",
    "plt.show()"
   ]
  },
  {
   "cell_type": "code",
   "execution_count": 36,
   "metadata": {},
   "outputs": [],
   "source": [
    "# comp.keys()"
   ]
  },
  {
   "cell_type": "code",
   "execution_count": 37,
   "metadata": {},
   "outputs": [
    {
     "data": {
      "text/plain": [
       "<KeysViewHDF5 ['Coordinates', 'Masses', 'ParticleIDs', 'Velocities']>"
      ]
     },
     "execution_count": 37,
     "metadata": {},
     "output_type": "execute_result"
    }
   ],
   "source": [
    "test['PartType2'].keys()"
   ]
  },
  {
   "cell_type": "code",
   "execution_count": 38,
   "metadata": {},
   "outputs": [],
   "source": [
    "# comp['PartType2'].keys()"
   ]
  },
  {
   "cell_type": "code",
   "execution_count": null,
   "metadata": {},
   "outputs": [],
   "source": []
  }
 ],
 "metadata": {
  "anaconda-cloud": {},
  "kernelspec": {
   "display_name": "Python 3",
   "language": "python",
   "name": "python3"
  },
  "language_info": {
   "codemirror_mode": {
    "name": "ipython",
    "version": 3
   },
   "file_extension": ".py",
   "mimetype": "text/x-python",
   "name": "python",
   "nbconvert_exporter": "python",
   "pygments_lexer": "ipython3",
<<<<<<< HEAD
   "version": "3.7.9"
=======
   "version": "3.8.5"
>>>>>>> 7307f7c4702a96cbeb178b29e96673b9f162f825
  }
 },
 "nbformat": 4,
 "nbformat_minor": 4
}
